{
 "cells": [
  {
   "cell_type": "code",
   "execution_count": 1,
   "metadata": {
    "collapsed": true
   },
   "outputs": [],
   "source": [
    "import pandas as pd\n",
    "import numpy as np\n",
    "%matplotlib inline\n",
    "train_df = pd.read_csv('titanic.csv')\n",
    "test_df = pd.read_csv('test.csv')"
   ]
  },
  {
   "cell_type": "code",
   "execution_count": null,
   "metadata": {
    "collapsed": true
   },
   "outputs": [],
   "source": [
    "def clean_data(train_df):\n",
    "    #create dummies variables\n",
    "    Pclass_dummies = pd.get_dummies(train_df['Pclass'],prefix=\"Pclass\").drop('Pclass_2', axis=1)\n",
    "    Embarked_dummies = pd.get_dummies(train_df['Embarked'],prefix=\"Embarked\").drop('Embarked_Q', axis=1)\n",
    "    Sex_dummies = pd.get_dummies(train_df['Sex'],prefix=\"sex\").drop(['sex_female'], axis = 1)\n",
    "    \n",
    "    #clean 'Age'\n",
    "    median_age = np.nanmedian(train_df['Age'])\n",
    "    train_df['Age'] = train_df['Age'].fillna(value=median_age)\n",
    "    median_fare = np.nanmedian(train_df['Fare'])\n",
    "    train_df['Fare'] = train_df['Fare'].fillna(value=median_fare)\n",
    "    #clean 'Embarked'\n",
    "    train_df['Embarked'] = train_df['Embarked'].fillna('S')\n",
    "    \n",
    "    train_df = pd.concat([Sex_dummies,\n",
    "                                Pclass_dummies,\n",
    "                                Embarked_dummies,\n",
    "                                train_df],\n",
    "                              axis=1) \n",
    "    \n",
    "    train_df_final = train_df.drop(['PassengerId',\n",
    "                      'Name',\n",
    "                      'SibSp',\n",
    "                      'Sex',\n",
    "                      'Parch',\n",
    "                      'Ticket',\n",
    "                      'Cabin',\n",
    "                      'Embarked',\n",
    "                      'Pclass'], axis=1)\n",
    "\n",
    "    return train_df_final"
   ]
  },
  {
   "cell_type": "code",
   "execution_count": null,
   "metadata": {
    "collapsed": true
   },
   "outputs": [],
   "source": [
    "train_df['Embarked'].value_counts()"
   ]
  },
  {
   "cell_type": "code",
   "execution_count": null,
   "metadata": {
    "collapsed": true
   },
   "outputs": [],
   "source": [
    "pd.isnull(clean_train).sum()"
   ]
  },
  {
   "cell_type": "code",
   "execution_count": null,
   "metadata": {
    "collapsed": true
   },
   "outputs": [],
   "source": [
    "clean_train = clean_data(train_df)\n",
    "clean_test = clean_data(test_df)"
   ]
  },
  {
   "cell_type": "code",
   "execution_count": null,
   "metadata": {
    "collapsed": true
   },
   "outputs": [],
   "source": [
    "train_df_x = clean_train.drop('Survived', axis=1)\n",
    "train_df_y = clean_train['Survived']\n",
    "train_df_x.shape"
   ]
  },
  {
   "cell_type": "code",
   "execution_count": null,
   "metadata": {
    "collapsed": true
   },
   "outputs": [],
   "source": [
    "from sklearn.ensemble import RandomForestClassifier\n",
    "from sklearn.model_selection import cross_val_score\n",
    "\n",
    "rf = RandomForestClassifier(n_estimators=100)\n",
    "\n",
    "rf.fit(train_df_x, train_df_y)\n",
    "rf = RandomForestClassifier(n_estimators=100)\n",
    "\n",
    "rf_scores = cross_val_score(rf, train_df_x, train_df_y, scoring='roc_auc')\n",
    "\n",
    "print \"the accuracy of random forest model is: \" + str(rf_scores.mean())\n",
    "# clean_test.shape"
   ]
  },
  {
   "cell_type": "code",
   "execution_count": null,
   "metadata": {
    "collapsed": true
   },
   "outputs": [],
   "source": [
    "#features importances\n",
    "rf.fit(train_df_x, train_df_y)\n",
    "feature_importances_array = rf.feature_importances_\n",
    "features_array = train_df_x.columns.values \n",
    "feature_importances_rf = pd.DataFrame({'importances' : feature_importances_array,\n",
    "                                       'features' : features_array})\n",
    "feature_importances_rf.sort(columns='importances',ascending=False)"
   ]
  },
  {
   "cell_type": "code",
   "execution_count": null,
   "metadata": {
    "collapsed": true
   },
   "outputs": [],
   "source": [
    "from sklearn.linear_model import LogisticRegression\n",
    "from sklearn.model_selection import cross_val_score\n",
    "\n",
    "lr = LogisticRegression()\n",
    "\n",
    "lr_scores = cross_val_score(lr, train_df_x, train_df_y, scoring='roc_auc')\n",
    "\n",
    "lr_scores.mean()"
   ]
  },
  {
   "cell_type": "code",
   "execution_count": null,
   "metadata": {
    "collapsed": true
   },
   "outputs": [],
   "source": [
    "#Bagging on Random Forest\n",
    "from sklearn.ensemble import BaggingClassifier\n",
    "\n",
    "from sklearn.model_selection import cross_val_score\n",
    "\n",
    "bc = BaggingClassifier(RandomForestClassifier())\n",
    "\n",
    "bc_scores = cross_val_score(bc, train_df_x, train_df_y)\n",
    "print \"Scores on three foldes of cross validation: \" + str(bc_scores)\n",
    "bc_scores.mean()"
   ]
  },
  {
   "cell_type": "code",
   "execution_count": null,
   "metadata": {
    "collapsed": true
   },
   "outputs": [],
   "source": [
    "from sklearn.ensemble import AdaBoostClassifier\n",
    "\n",
    "from sklearn.model_selection import cross_val_score\n",
    "\n",
    "ab = AdaBoostClassifier()\n",
    "\n",
    "ab_scores = cross_val_score(ab, train_df_x, train_df_y)\n",
    "print \"Scores on three foldes of cross validation: \" + str(ab_scores)\n",
    "ab_scores.mean()"
   ]
  },
  {
   "cell_type": "code",
   "execution_count": null,
   "metadata": {
    "collapsed": true
   },
   "outputs": [],
   "source": [
    "submission_df = pd.read_csv('test.csv')\n",
    "submission_df['Survived'] = rf.predict(clean_test)\n",
    "\n",
    "submission = submission_df[['PassengerId','Survived']]\n",
    "submission.to_csv('NHoang_TitanicRf.csv', index=False, header=True)"
   ]
  }
 ],
 "metadata": {
  "anaconda-cloud": {},
  "kernelspec": {
   "display_name": "Python [Root]",
   "language": "python",
   "name": "Python [Root]"
  },
  "language_info": {
   "codemirror_mode": {
    "name": "ipython",
    "version": 2
   },
   "file_extension": ".py",
   "mimetype": "text/x-python",
   "name": "python",
   "nbconvert_exporter": "python",
   "pygments_lexer": "ipython2",
   "version": "2.7.12"
  }
 },
 "nbformat": 4,
 "nbformat_minor": 0
}
